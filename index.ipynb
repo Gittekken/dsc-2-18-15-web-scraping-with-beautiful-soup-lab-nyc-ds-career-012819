{
 "cells": [
  {
   "cell_type": "markdown",
   "metadata": {},
   "source": [
    "# Web Scraping with Beautiful Soup - Lab"
   ]
  },
  {
   "cell_type": "markdown",
   "metadata": {},
   "source": [
    "## Introduction\n",
    "\n",
    "Now that you've read and seen some docmentation regarding the use of Beautiful Soup, its time to practice and put that to work! In this lab you'll formalize some of our example code into functions and scrape the lyrics from an artist of your choice."
   ]
  },
  {
   "cell_type": "markdown",
   "metadata": {},
   "source": [
    "## Objectives\n",
    "You will be able to:\n",
    "* Scrape Static webpages\n",
    "* Select specific elements from the DOM"
   ]
  },
  {
   "cell_type": "markdown",
   "metadata": {},
   "source": [
    "## Link Scraping\n",
    "\n",
    "Write a function to collect the links to each of the song pages from a given artist page."
   ]
  },
  {
   "cell_type": "code",
   "execution_count": 7,
   "metadata": {},
   "outputs": [
    {
     "data": {
      "text/plain": [
       "[('Is This It',\n",
       "  '../lyrics/strokes/isthisit.html',\n",
       "  'album: \"Is This It\" (2001)'),\n",
       " ('The Modern Age',\n",
       "  '../lyrics/strokes/themodernage.html',\n",
       "  'album: \"Is This It\" (2001)'),\n",
       " ('Soma', '../lyrics/strokes/soma.html', 'album: \"Is This It\" (2001)'),\n",
       " ('Barely Legal',\n",
       "  '../lyrics/strokes/barelylegal.html',\n",
       "  'album: \"Is This It\" (2001)'),\n",
       " ('Someday', '../lyrics/strokes/someday.html', 'album: \"Is This It\" (2001)'),\n",
       " ('Alone Together',\n",
       "  '../lyrics/strokes/alonetogether.html',\n",
       "  'album: \"Is This It\" (2001)'),\n",
       " ('Last Nite',\n",
       "  '../lyrics/strokes/lastnite.html',\n",
       "  'album: \"Is This It\" (2001)')]"
      ]
     },
     "execution_count": 7,
     "metadata": {},
     "output_type": "execute_result"
    }
   ],
   "source": [
    "#Starter Code\n",
    "#!pip install bs4\n",
    "from bs4 import BeautifulSoup\n",
    "import requests\n",
    "\n",
    "\n",
    "url = 'https://www.azlyrics.com/s/strokes.html' #Put the URL of your AZLyrics Artist Page here!\n",
    "\n",
    "html_page = requests.get(url) #Make a get request to retrieve the page\n",
    "soup = BeautifulSoup(html_page.content, 'html.parser') #Pass the page contents to beautiful soup for parsing\n",
    "albums = soup.findAll(\"div\", {\"class\": \"album\"})\n",
    "\n",
    "#The example from our lecture/reading\n",
    "data = [] #Create a storage container\n",
    "for album_n in range(len(albums)):\n",
    "    #On the last album, we won't be able to look forward\n",
    "    if album_n == len(albums)-1:\n",
    "        cur_album = albums[album_n]\n",
    "        album_songs = cur_album.findNextSiblings('a')\n",
    "        for song in album_songs:\n",
    "            page = song.get('href')\n",
    "            title = song.text\n",
    "            album = cur_album.text\n",
    "            data.append((title, page, album))\n",
    "    else:\n",
    "        cur_album = albums[album_n]\n",
    "        next_album = albums[album_n+1]\n",
    "        saca = cur_album.findNextSiblings('a') #songs after current album\n",
    "        sbna = next_album.findPreviousSiblings('a') #songs before next album\n",
    "        album_songs = [song for song in saca if song in sbna] #album songs are those listed after the current album but before the next one!\n",
    "        for song in album_songs:\n",
    "            page = song.get('href')\n",
    "            title = song.text\n",
    "            album = cur_album.text\n",
    "            data.append((title, page, album))\n",
    "data[:7]"
   ]
  },
  {
   "cell_type": "markdown",
   "metadata": {},
   "source": [
    "## Text Scraping\n",
    "Write a secondary function that scrapes the lyrics for each song page."
   ]
  },
  {
   "cell_type": "code",
   "execution_count": 10,
   "metadata": {},
   "outputs": [
    {
     "data": {
      "text/plain": [
       "<div class=\"col-xs-12 col-lg-8 text-center\">\n",
       "<div class=\"div-share noprint\">\n",
       "<div class=\"fb-like\" data-action=\"like\" data-href=\"https://www.azlyrics.com/lyrics/lilyallen/sheezus.html\" data-layout=\"button_count\" data-share=\"false\" data-show-faces=\"false\" style=\"float:left;\"></div>\n",
       "<!-- AddThis Button BEGIN -->\n",
       "<script src=\"https://s7.addthis.com/js/300/addthis_widget.js#username=azlyrics\" type=\"text/javascript\"></script>\n",
       "<div class=\"addthis_toolbox addthis_default_style\" style=\"float:right;\">\n",
       "<a class=\"btn btn-xs btn-share addthis_button_email\">\n",
       "<span class=\"playblk\"><img alt=\"Email\" class=\"playblk\" height=\"18\" src=\"//www.azlyrics.com/images/email.svg\" width=\"56\"/></span>\n",
       "</a>\n",
       "<a class=\"btn btn-xs btn-share addthis_button_print\" style=\"margin-right: 0px !important;\">\n",
       "<span class=\"playblk\"><img alt=\"Print\" class=\"playblk\" height=\"18\" src=\"//www.azlyrics.com/images/print.svg\" width=\"56\"/></span>\n",
       "</a>\n",
       "</div>\n",
       "</div>\n",
       "<!-- AddThis Button END -->\n",
       "<div class=\"div-share\"><h1>\"Sheezus\" lyrics</h1></div>\n",
       "<div class=\"lyricsh\">\n",
       "<h2><b>Lily Allen Lyrics</b></h2>\n",
       "</div>\n",
       "<div class=\"ringtone\">\n",
       "<span id=\"cf_text_top\"></span>\n",
       "</div>\n",
       "<b>\"Sheezus\"</b><br/>\n",
       "<br/>\n",
       "<div>\n",
       "<!-- Usage of azlyrics.com content by any third-party lyrics provider is prohibited by our licensing agreement. Sorry about that. -->\n",
       "Been here before, so I'm prepared<br/>\n",
       "Not gonna lie though, I'm kinda scared<br/>\n",
       "Lace up my gloves, I'm going in<br/>\n",
       "Don't let my kids watch me when I get in the ring<br/>\n",
       "<br/>\n",
       "I'll take the hits, roll with the punches<br/>\n",
       "I'll get back up, it's not as if I've never done this<br/>\n",
       "But then again, the game is changing<br/>\n",
       "Can't just come back, jump on the mic and do the same thing<br/>\n",
       "<br/>\n",
       "There goes the bell, I know that sound<br/>\n",
       "I guess it's time for me to go another round<br/>\n",
       "Now wish me luck, I'm gonna need it<br/>\n",
       "I'll see you on the other side, if I'm still breathing<br/>\n",
       "<br/>\n",
       "Riri isn't scared of Katy Perry's roaring<br/>\n",
       "Queen B's gone back to the drawing<br/>\n",
       "Lorde smells blood, yeah, she's about to slay you<br/>\n",
       "Kid ain't one to fuck with when she's only on her debut<br/>\n",
       "<br/>\n",
       "We're all watching Gaga, L-O-L like ha ha<br/>\n",
       "Dying for the art, so really she's a martyr<br/>\n",
       "The second best will never cut it for the divas<br/>\n",
       "Give me that crown, bitch, I wanna be Sheezus<br/>\n",
       "<br/>\n",
       "I'm ready for all the comparisons<br/>\n",
       "I think it's dumb and it's embarrassing<br/>\n",
       "I'm switching off, no longer listening<br/>\n",
       "I've had enough of persecution and conditioning<br/>\n",
       "<br/>\n",
       "Maybe it's instinct, we're only animal<br/>\n",
       "Maybe it's healthy, maybe it's rational<br/>\n",
       "It makes me angry, I'm serious<br/>\n",
       "But then again, I'm just about to get my period<br/>\n",
       "<br/>\n",
       "Periods, we all get periods<br/>\n",
       "Every month, yo that's what the theory is<br/>\n",
       "It's human nature, another cycle<br/>\n",
       "Be nice to me, I'll make you one of my disciples<br/>\n",
       "<br/>\n",
       "Riri isn't scared of Katy Perry's roaring<br/>\n",
       "Queen B's going back to the drawing<br/>\n",
       "Lorde smells blood, yeah, she's about to slay you<br/>\n",
       "Kid ain't one to fuck with when she's only on her debut<br/>\n",
       "<br/>\n",
       "We're all watching Gaga, L-O-L like haha<br/>\n",
       "Dying for the art, so really she's a martyr<br/>\n",
       "The second best will never cut it for the divas<br/>\n",
       "Give me that crown, bitch, I wanna be Sheezus<br/>\n",
       "<br/>\n",
       "I am born again, now run along and tell<br/>\n",
       "All of your friends to come and join us<br/>\n",
       "Give yourselves to me, I am your leader<br/>\n",
       "Let me be Sheezus<br/>\n",
       "Let me be Sheezus<br/>\n",
       "<br/>\n",
       "I am born again, now run along and tell<br/>\n",
       "All of your friends to come and join us<br/>\n",
       "Give yourselves to me, I am your leader<br/>\n",
       "Let me be Sheezus\n",
       "</div>\n",
       "<br/><br/>\n",
       "<!-- MxM banner -->\n",
       "<div class=\"noprint\">\n",
       "<script>\n",
       "if  ( /Android|webOS|iPhone|iPod|iPad|BlackBerry|IEMobile|Opera Mini/i.test(navigator.userAgent) ) \n",
       "  {\n",
       "     document.write('<div style=\"margin-left: auto; margin-right: auto;\">'+\n",
       "  '<iframe scrolling=\"no\" style=\"border: 0px none; overflow:hidden;\" src=\"//adv.mxmcdn.net/br/t1.0/m_js/e_0/sn_0/l_9669468/su_0/rs_0/tr_3vUCAFDnnXx8X-w9v5O9T0BKbuM8xk1LHmqQ4tUSmPfXs4nsCX7DGQVnfyOjhwkxZiyXXG0gf_qtWnKiKvkqoAFJ6gAdl9fadx86v7055dLGV2SMCuOyrTBBDcCqFK-8Ft3L1OfQv_X8wtn7K3zDHr2DcjvyzXdecho3jvhuqQ32scVBv9DlUhyEp0qAGl0YE2VMkY4sJjMuSmwtQZhdUBAwZoaRot8Z439yzXCSEDEWZ5tSfA0DlxlveLxRwa6Ej4N9d4iDRQ8CqmVnhvciVQFt5QYoZkBS1oeDIeRcc21lzwVDndtUkyAxomDdnilmQtMoDj5oo1FVuegrcac732C8zXcrBUbsOgxvtQkhizFtaX2tfPZqSRQYoW271cDSXfCISOWjhcdWRi51uwHkxZhIvewh-Vd7y_XpU11zm7bk8EsE5_GIMEy1fd5cogNrJEg/\" width=\"290px\" height=\"50px\"></iframe>'+\n",
       "  '</div>');\n",
       "   }\n",
       "</script>\n",
       "<br/><br/>\n",
       "</div>\n",
       "<form action=\"../../add.php\" id=\"addsong\" method=\"post\">\n",
       "<input name=\"what\" type=\"hidden\" value=\"add_song\"/>\n",
       "<input name=\"artist\" type=\"hidden\" value=\"Lily Allen\"/>\n",
       "<input name=\"artist_id\" type=\"hidden\" value=\"1674\"/>\n",
       "</form>\n",
       "<form action=\"../../add.php\" id=\"corlyr\" method=\"post\">\n",
       "<input name=\"what\" type=\"hidden\" value=\"correct_lyrics\"/>\n",
       "<input name=\"song_id\" type=\"hidden\" value=\"357101\"/>\n",
       "</form>\n",
       "<div class=\"smt noprint\">\n",
       "<a class=\"btn btn-share\" href=\"#\" onclick=\"submitCorrections()\"><span class=\"glyphicon glyphicon-pencil\"></span> Submit Corrections</a>\n",
       "</div>\n",
       "<div class=\"smt\"><small>Thanks to TheEvilFrezzi for correcting these lyrics.<br/></small>\n",
       "</div>\n",
       "<div class=\"noprint\" style=\"padding: 15px 0\">\n",
       "<span id=\"cf_text_bottom\"></span>\n",
       "</div>\n",
       "<!-- credits -->\n",
       "<div class=\"smt\"><small>Writer(s): GREG KURSTIN, LILY ROSE BEATRICE COOPER, DACOURY DAHI NATCHE, LILY ROSE BEATRICE ALLEN</small>\n",
       "<br/>\n",
       "</div>\n",
       "<!-- song facts -->\n",
       "<!-- artist link -->\n",
       "<ol class=\"breadcrumb noprint\" itemscope=\"\" itemtype=\"https://schema.org/BreadcrumbList\">\n",
       "<li itemprop=\"itemListElement\" itemscope=\"\" itemtype=\"https://schema.org/ListItem\"><a href=\"//www.azlyrics.com\" itemprop=\"item\"><span itemprop=\"name\">AZLyrics</span></a></li>\n",
       "<li itemprop=\"itemListElement\" itemscope=\"\" itemtype=\"https://schema.org/ListItem\"><a href=\"//www.azlyrics.com/l.html\" itemprop=\"item\"><span itemprop=\"name\">L</span></a></li>\n",
       "<li itemprop=\"itemListElement\" itemscope=\"\" itemtype=\"https://schema.org/ListItem\"><a href=\"//www.azlyrics.com/l/lilyallen.html\" itemprop=\"item\"><span itemprop=\"name\">Lily Allen Lyrics</span></a></li>\n",
       "</ol>\n",
       "<!-- album songlists -->\n",
       "<div class=\"panel songlist-panel noprint\">\n",
       "album: <b>\"Sheezus\"</b> (2014)<br/><br/>\n",
       "<a href=\"sheezus.html\">Sheezus</a><br/>\n",
       "<a href=\"l8cmmr.html\">L8 CMMR</a><br/>\n",
       "<a href=\"airballoon.html\">Air Balloon</a><br/>\n",
       "<a href=\"ourtime.html\">Our Time</a><br/>\n",
       "<a href=\"insincerelyyours.html\">Insincerely Yours</a><br/>\n",
       "<a href=\"takemyplace.html\">Take My Place</a><br/>\n",
       "<a href=\"aslongasigotyou.html\">As Long As I Got You</a><br/>\n",
       "<a href=\"closeyoureyes.html\">Close Your Eyes</a><br/>\n",
       "<a href=\"urlbadman.html\">URL Badman</a><br/>\n",
       "<a href=\"silverspoon.html\">Silver Spoon</a><br/>\n",
       "<a href=\"lifeforme.html\">Life For Me</a><br/>\n",
       "<a href=\"hardouthere.html\">Hard Out Here</a><br/>\n",
       "<a href=\"interlude.html\">Interlude</a><br/>\n",
       "<a href=\"somewhereonlyweknow.html\">Somewhere Only We Know</a><span class=\"comment\">[Deluxe Edition Bonus Track]</span><br/>\n",
       "<a href=\"windyourneckin.html\">Wind Your Neck In</a><span class=\"comment\">[Deluxe Edition Bonus Track]</span><br/>\n",
       "<a href=\"whodoyoulove.html\">Who Do You Love?</a><span class=\"comment\">[Deluxe Edition Bonus Track]</span><br/>\n",
       "<a href=\"miserablewithoutyourlove.html\">Miserable Without Your Love</a><span class=\"comment\">[Deluxe Edition Bonus Track]</span><br/>\n",
       "<a href=\"holdingontonothing.html\">Holding On To Nothing</a><span class=\"comment\">[Deluxe Edition Bonus Track]</span><br/>\n",
       "</div>\n",
       "<!-- album songlists end -->\n",
       "<form action=\"//search.azlyrics.com/search.php\" class=\"search noprint\" method=\"get\" role=\"search\">\n",
       "<div class=\"input-group\" style=\"margin-bottom:15px\">\n",
       "<input class=\"form-control\" name=\"q\" placeholder=\"\" type=\"text\"/>\n",
       "<span class=\"input-group-btn\">\n",
       "<button class=\"btn btn-primary\" type=\"submit\"><span class=\"glyphicon glyphicon-search\"></span> Search</button>\n",
       "</span>\n",
       "</div>\n",
       "</form>\n",
       "<div class=\"noprint visible-xs-block\" style=\"margin-top:5px;margin-bottom:5px\">\n",
       "<span id=\"cf_rect_bottom\"></span>\n",
       "</div>\n",
       "</div>"
      ]
     },
     "execution_count": 10,
     "metadata": {},
     "output_type": "execute_result"
    }
   ],
   "source": [
    "#Remember to open up the webpage in a browser and control-click/right-click and go to inspect!\n",
    "#!pip install bs4\n",
    "from bs4 import BeautifulSoup\n",
    "import requests\n",
    "\n",
    "#Example page\n",
    "url = 'https://www.azlyrics.com/lyrics/lilyallen/sheezus.html'\n",
    "\n",
    "html_page = requests.get(url)\n",
    "soup = BeautifulSoup(html_page.content, 'html.parser')\n",
    "soup = soup.find_all(\"div\")\n",
    "#soup = soup.find_next_sibling(\"div\")\n",
    "#soup.prettify()[:1000]\n",
    "soup[14]"
   ]
  },
  {
   "cell_type": "markdown",
   "metadata": {},
   "source": [
    "## Synthesizing\n",
    "Create a script using your two functions above to scrape all of the song lyrics for a given artist.\n"
   ]
  },
  {
   "cell_type": "code",
   "execution_count": null,
   "metadata": {},
   "outputs": [],
   "source": [
    "#Use this block for your code!"
   ]
  },
  {
   "cell_type": "markdown",
   "metadata": {},
   "source": [
    "## Visualizing\n",
    "Generate two bar graphs to compare lyrical changes for the artist of your chose. For example, the two bar charts could compare the lyrics for two different songs or two different albums."
   ]
  },
  {
   "cell_type": "code",
   "execution_count": null,
   "metadata": {},
   "outputs": [],
   "source": [
    "#Use this block for your code!"
   ]
  },
  {
   "cell_type": "markdown",
   "metadata": {},
   "source": [
    "## Level - Up\n",
    "\n",
    "Think about how you structured the data from your web scraper. Did you scrape the entire song lyrics verbatim? Did you simply store the words and their frequency counts, or did you do something else entirely? List out a few different options for how you could have stored this data. What are advantages and disadvantages of each? Be specific and think about what sort of analyses each representation would lend itself to."
   ]
  },
  {
   "cell_type": "code",
   "execution_count": null,
   "metadata": {},
   "outputs": [],
   "source": [
    "#Use this block for your code!"
   ]
  },
  {
   "cell_type": "markdown",
   "metadata": {},
   "source": [
    "## Summary"
   ]
  },
  {
   "cell_type": "markdown",
   "metadata": {},
   "source": [
    "Congratulations! You've now practiced your Beautiful Soup knowledge!"
   ]
  }
 ],
 "metadata": {
  "kernelspec": {
   "display_name": "Python 3",
   "language": "python",
   "name": "python3"
  },
  "language_info": {
   "codemirror_mode": {
    "name": "ipython",
    "version": 3
   },
   "file_extension": ".py",
   "mimetype": "text/x-python",
   "name": "python",
   "nbconvert_exporter": "python",
   "pygments_lexer": "ipython3",
   "version": "3.6.6"
  }
 },
 "nbformat": 4,
 "nbformat_minor": 2
}
