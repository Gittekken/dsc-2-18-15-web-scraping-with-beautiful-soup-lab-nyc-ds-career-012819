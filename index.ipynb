{
 "cells": [
  {
   "cell_type": "markdown",
   "metadata": {},
   "source": [
    "# Web Scraping with Beautiful Soup - Lab"
   ]
  },
  {
   "cell_type": "markdown",
   "metadata": {},
   "source": [
    "## Introduction\n",
    "\n",
    "Now that you've read and seen some docmentation regarding the use of Beautiful Soup, its time to practice and put that to work! In this lab you'll formalize some of our example code into functions and scrape the lyrics from an artist of your choice."
   ]
  },
  {
   "cell_type": "markdown",
   "metadata": {},
   "source": [
    "## Objectives\n",
    "You will be able to:\n",
    "* Scrape Static webpages\n",
    "* Select specific elements from the DOM"
   ]
  },
  {
   "cell_type": "markdown",
   "metadata": {},
   "source": [
    "## Link Scraping\n",
    "\n",
    "Write a function to collect the links to each of the song pages from a given artist page."
   ]
  },
  {
   "cell_type": "code",
   "execution_count": 7,
   "metadata": {},
   "outputs": [
    {
     "data": {
      "text/plain": [
       "[('Is This It',\n",
       "  '../lyrics/strokes/isthisit.html',\n",
       "  'album: \"Is This It\" (2001)'),\n",
       " ('The Modern Age',\n",
       "  '../lyrics/strokes/themodernage.html',\n",
       "  'album: \"Is This It\" (2001)'),\n",
       " ('Soma', '../lyrics/strokes/soma.html', 'album: \"Is This It\" (2001)'),\n",
       " ('Barely Legal',\n",
       "  '../lyrics/strokes/barelylegal.html',\n",
       "  'album: \"Is This It\" (2001)'),\n",
       " ('Someday', '../lyrics/strokes/someday.html', 'album: \"Is This It\" (2001)'),\n",
       " ('Alone Together',\n",
       "  '../lyrics/strokes/alonetogether.html',\n",
       "  'album: \"Is This It\" (2001)'),\n",
       " ('Last Nite',\n",
       "  '../lyrics/strokes/lastnite.html',\n",
       "  'album: \"Is This It\" (2001)')]"
      ]
     },
     "execution_count": 7,
     "metadata": {},
     "output_type": "execute_result"
    }
   ],
   "source": [
    "#Starter Code\n",
    "#!pip install bs4\n",
    "from bs4 import BeautifulSoup\n",
    "import requests\n",
    "\n",
    "\n",
    "url = 'https://www.azlyrics.com/s/strokes.html' #Put the URL of your AZLyrics Artist Page here!\n",
    "\n",
    "html_page = requests.get(url) #Make a get request to retrieve the page\n",
    "soup = BeautifulSoup(html_page.content, 'html.parser') #Pass the page contents to beautiful soup for parsing\n",
    "albums = soup.findAll(\"div\", {\"class\": \"album\"})\n",
    "\n",
    "#The example from our lecture/reading\n",
    "data = [] #Create a storage container\n",
    "for album_n in range(len(albums)):\n",
    "    #On the last album, we won't be able to look forward\n",
    "    if album_n == len(albums)-1:\n",
    "        cur_album = albums[album_n]\n",
    "        album_songs = cur_album.findNextSiblings('a')\n",
    "        for song in album_songs:\n",
    "            page = song.get('href')\n",
    "            title = song.text\n",
    "            album = cur_album.text\n",
    "            data.append((title, page, album))\n",
    "    else:\n",
    "        cur_album = albums[album_n]\n",
    "        next_album = albums[album_n+1]\n",
    "        saca = cur_album.findNextSiblings('a') #songs after current album\n",
    "        sbna = next_album.findPreviousSiblings('a') #songs before next album\n",
    "        album_songs = [song for song in saca if song in sbna] #album songs are those listed after the current album but before the next one!\n",
    "        for song in album_songs:\n",
    "            page = song.get('href')\n",
    "            title = song.text\n",
    "            album = cur_album.text\n",
    "            data.append((title, page, album))\n",
    "data[:7]"
   ]
  },
  {
   "cell_type": "markdown",
   "metadata": {},
   "source": [
    "## Text Scraping\n",
    "Write a secondary function that scrapes the lyrics for each song page."
   ]
  },
  {
   "cell_type": "code",
   "execution_count": 2,
   "metadata": {},
   "outputs": [
    {
     "name": "stdout",
     "output_type": "stream",
     "text": [
      "Collecting bs4\n",
      "  Downloading https://files.pythonhosted.org/packages/10/ed/7e8b97591f6f456174139ec089c769f89a94a1a4025fe967691de971f314/bs4-0.0.1.tar.gz\n",
      "Collecting beautifulsoup4 (from bs4)\n",
      "\u001b[?25l  Downloading https://files.pythonhosted.org/packages/1d/5d/3260694a59df0ec52f8b4883f5d23b130bc237602a1411fa670eae12351e/beautifulsoup4-4.7.1-py3-none-any.whl (94kB)\n",
      "\u001b[K    100% |████████████████████████████████| 102kB 26.0MB/s a 0:00:01\n",
      "\u001b[?25hCollecting soupsieve>=1.2 (from beautifulsoup4->bs4)\n",
      "  Downloading https://files.pythonhosted.org/packages/bf/b3/2473abf05c4950c6a829ed5dcbc40d8b56d4351d15d6939c8ffb7c6b1a14/soupsieve-1.7.3-py2.py3-none-any.whl\n",
      "Building wheels for collected packages: bs4\n",
      "  Running setup.py bdist_wheel for bs4 ... \u001b[?25ldone\n",
      "\u001b[?25h  Stored in directory: /home/poignant-design-5333/.cache/pip/wheels/a0/b0/b2/4f80b9456b87abedbc0bf2d52235414c3467d8889be38dd472\n",
      "Successfully built bs4\n",
      "Installing collected packages: soupsieve, beautifulsoup4, bs4\n",
      "Successfully installed beautifulsoup4-4.7.1 bs4-0.0.1 soupsieve-1.7.3\n",
      "\u001b[33mYou are using pip version 10.0.1, however version 19.0.1 is available.\n",
      "You should consider upgrading via the 'pip install --upgrade pip' command.\u001b[0m\n"
     ]
    },
    {
     "data": {
      "text/plain": [
       "<div class=\"btn-group text-center\" role=\"group\">\n",
       "<a class=\"btn btn-menu\" href=\"//www.azlyrics.com/a.html\">A</a>\n",
       "<a class=\"btn btn-menu\" href=\"//www.azlyrics.com/b.html\">B</a>\n",
       "<a class=\"btn btn-menu\" href=\"//www.azlyrics.com/c.html\">C</a>\n",
       "<a class=\"btn btn-menu\" href=\"//www.azlyrics.com/d.html\">D</a>\n",
       "<a class=\"btn btn-menu\" href=\"//www.azlyrics.com/e.html\">E</a>\n",
       "<a class=\"btn btn-menu\" href=\"//www.azlyrics.com/f.html\">F</a>\n",
       "<a class=\"btn btn-menu\" href=\"//www.azlyrics.com/g.html\">G</a>\n",
       "<a class=\"btn btn-menu\" href=\"//www.azlyrics.com/h.html\">H</a>\n",
       "<a class=\"btn btn-menu\" href=\"//www.azlyrics.com/i.html\">I</a>\n",
       "<a class=\"btn btn-menu\" href=\"//www.azlyrics.com/j.html\">J</a>\n",
       "<a class=\"btn btn-menu\" href=\"//www.azlyrics.com/k.html\">K</a>\n",
       "<a class=\"btn btn-menu\" href=\"//www.azlyrics.com/l.html\">L</a>\n",
       "<a class=\"btn btn-menu\" href=\"//www.azlyrics.com/m.html\">M</a>\n",
       "<a class=\"btn btn-menu\" href=\"//www.azlyrics.com/n.html\">N</a>\n",
       "<a class=\"btn btn-menu\" href=\"//www.azlyrics.com/o.html\">O</a>\n",
       "<a class=\"btn btn-menu\" href=\"//www.azlyrics.com/p.html\">P</a>\n",
       "<a class=\"btn btn-menu\" href=\"//www.azlyrics.com/q.html\">Q</a>\n",
       "<a class=\"btn btn-menu\" href=\"//www.azlyrics.com/r.html\">R</a>\n",
       "<a class=\"btn btn-menu\" href=\"//www.azlyrics.com/s.html\">S</a>\n",
       "<a class=\"btn btn-menu\" href=\"//www.azlyrics.com/t.html\">T</a>\n",
       "<a class=\"btn btn-menu\" href=\"//www.azlyrics.com/u.html\">U</a>\n",
       "<a class=\"btn btn-menu\" href=\"//www.azlyrics.com/v.html\">V</a>\n",
       "<a class=\"btn btn-menu\" href=\"//www.azlyrics.com/w.html\">W</a>\n",
       "<a class=\"btn btn-menu\" href=\"//www.azlyrics.com/x.html\">X</a>\n",
       "<a class=\"btn btn-menu\" href=\"//www.azlyrics.com/y.html\">Y</a>\n",
       "<a class=\"btn btn-menu\" href=\"//www.azlyrics.com/z.html\">Z</a>\n",
       "<a class=\"btn btn-menu\" href=\"//www.azlyrics.com/19.html\">#</a>\n",
       "</div>"
      ]
     },
     "execution_count": 2,
     "metadata": {},
     "output_type": "execute_result"
    }
   ],
   "source": [
    "#Remember to open up the webpage in a browser and control-click/right-click and go to inspect!\n",
    "!pip install bs4\n",
    "from bs4 import BeautifulSoup\n",
    "import requests\n",
    "\n",
    "#Example page\n",
    "url = 'https://www.azlyrics.com/lyrics/lilyallen/sheezus.html'\n",
    "\n",
    "html_page = requests.get(url)\n",
    "soup = BeautifulSoup(html_page.content, 'html.parser')\n",
    "soup = soup.find_all(\"div\")\n",
    "#soup = soup.find_next_sibling(\"div\")\n",
    "#soup.prettify()[:1000]\n",
    "soup[3]"
   ]
  },
  {
   "cell_type": "markdown",
   "metadata": {},
   "source": [
    "## Synthesizing\n",
    "Create a script using your two functions above to scrape all of the song lyrics for a given artist.\n"
   ]
  },
  {
   "cell_type": "code",
   "execution_count": null,
   "metadata": {},
   "outputs": [],
   "source": [
    "#Use this block for your code!"
   ]
  },
  {
   "cell_type": "markdown",
   "metadata": {},
   "source": [
    "## Visualizing\n",
    "Generate two bar graphs to compare lyrical changes for the artist of your chose. For example, the two bar charts could compare the lyrics for two different songs or two different albums."
   ]
  },
  {
   "cell_type": "code",
   "execution_count": null,
   "metadata": {},
   "outputs": [],
   "source": [
    "#Use this block for your code!"
   ]
  },
  {
   "cell_type": "markdown",
   "metadata": {},
   "source": [
    "## Level - Up\n",
    "\n",
    "Think about how you structured the data from your web scraper. Did you scrape the entire song lyrics verbatim? Did you simply store the words and their frequency counts, or did you do something else entirely? List out a few different options for how you could have stored this data. What are advantages and disadvantages of each? Be specific and think about what sort of analyses each representation would lend itself to."
   ]
  },
  {
   "cell_type": "code",
   "execution_count": null,
   "metadata": {},
   "outputs": [],
   "source": [
    "#Use this block for your code!"
   ]
  },
  {
   "cell_type": "markdown",
   "metadata": {},
   "source": [
    "## Summary"
   ]
  },
  {
   "cell_type": "markdown",
   "metadata": {},
   "source": [
    "Congratulations! You've now practiced your Beautiful Soup knowledge!"
   ]
  }
 ],
 "metadata": {
  "kernelspec": {
   "display_name": "Python 3",
   "language": "python",
   "name": "python3"
  },
  "language_info": {
   "codemirror_mode": {
    "name": "ipython",
    "version": 3
   },
   "file_extension": ".py",
   "mimetype": "text/x-python",
   "name": "python",
   "nbconvert_exporter": "python",
   "pygments_lexer": "ipython3",
   "version": "3.6.6"
  }
 },
 "nbformat": 4,
 "nbformat_minor": 2
}
